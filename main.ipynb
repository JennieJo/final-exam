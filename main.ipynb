{
 "cells": [
  {
   "cell_type": "code",
   "execution_count": 178,
   "metadata": {
    "collapsed": true
   },
   "outputs": [
    {
     "data": {
      "text/plain": "               Console Name      Type    Company  Released Year  \\\n0             PlayStation 2      Home       Sony           2000   \n1               Nintendo DS  Handheld   Nintendo           2004   \n2           Nintendo Switch    Hybrid   Nintendo           2017   \n3                  Game Boy  Handheld   Nintendo           1989   \n4            Game Boy Color  Handheld   Nintendo           1998   \n5             PlayStation 4      Home       Sony           2013   \n6               PlayStation      Home       Sony           1994   \n7                       Wii      Home   Nintendo           2006   \n8             PlayStation 3      Home       Sony           2006   \n9                  Xbox 360      Home  Microsoft           2005   \n10         Game Boy Advance  Handheld   Nintendo           2001   \n11     PlayStation Portable  Handheld       Sony           2004   \n12             Nintendo 3DS  Handheld   Nintendo           2011   \n13              NES/Famicom      Home   Nintendo           1983   \n14                 Xbox One      Home  Microsoft           2013   \n15       SNES/Super Famicom      Home   Nintendo           1990   \n16             Game & Watch  Handheld   Nintendo           1980   \n17              Nintendo 64      Home   Nintendo           1996   \n18  Sega Genesis/Mega Drive      Home       Sega           1988   \n19            PlayStation 5      Home       Sony           2020   \n\n    Discontinuation Year  Units sold (million)  \\\n0                   2013                155.00   \n1                   2013                154.02   \n2                      0                122.55   \n3                   2003                 64.42   \n4                   2003                 44.06   \n5                      0                117.20   \n6                   2006                102.49   \n7                   2013                101.63   \n8                   2017                 87.40   \n9                   2016                 84.00   \n10                  2010                 81.51   \n11                  2014                 82.00   \n12                  2020                 75.94   \n13                  2003                 61.91   \n14                  2020                 58.50   \n15                  2003                 49.10   \n16                  1991                 43.40   \n17                  2002                 32.93   \n18                  1997                 30.75   \n19                     0                 30.00   \n\n                                              Remarks  \n0            Final sales are greater than 155 million  \n1                                                 NaN  \n2                                                 NaN  \n3   The Game Boy (1989) and the Game Boy Color (19...  \n4                                                 NaN  \n5                                                 NaN  \n6                                                 NaN  \n7                                                 NaN  \n8           Final sales are greater than 87.4 million  \n9             Final sales are greater than 84 million  \n10                                                NaN  \n11                    Estimated between 80-82 million  \n12                                                NaN  \n13                                                NaN  \n14                  Estimated between 51-58.5 million  \n15                                                NaN  \n16                                                NaN  \n17                                                NaN  \n18                                                NaN  \n19                                                NaN  ",
      "text/html": "<div>\n<style scoped>\n    .dataframe tbody tr th:only-of-type {\n        vertical-align: middle;\n    }\n\n    .dataframe tbody tr th {\n        vertical-align: top;\n    }\n\n    .dataframe thead th {\n        text-align: right;\n    }\n</style>\n<table border=\"1\" class=\"dataframe\">\n  <thead>\n    <tr style=\"text-align: right;\">\n      <th></th>\n      <th>Console Name</th>\n      <th>Type</th>\n      <th>Company</th>\n      <th>Released Year</th>\n      <th>Discontinuation Year</th>\n      <th>Units sold (million)</th>\n      <th>Remarks</th>\n    </tr>\n  </thead>\n  <tbody>\n    <tr>\n      <th>0</th>\n      <td>PlayStation 2</td>\n      <td>Home</td>\n      <td>Sony</td>\n      <td>2000</td>\n      <td>2013</td>\n      <td>155.00</td>\n      <td>Final sales are greater than 155 million</td>\n    </tr>\n    <tr>\n      <th>1</th>\n      <td>Nintendo DS</td>\n      <td>Handheld</td>\n      <td>Nintendo</td>\n      <td>2004</td>\n      <td>2013</td>\n      <td>154.02</td>\n      <td>NaN</td>\n    </tr>\n    <tr>\n      <th>2</th>\n      <td>Nintendo Switch</td>\n      <td>Hybrid</td>\n      <td>Nintendo</td>\n      <td>2017</td>\n      <td>0</td>\n      <td>122.55</td>\n      <td>NaN</td>\n    </tr>\n    <tr>\n      <th>3</th>\n      <td>Game Boy</td>\n      <td>Handheld</td>\n      <td>Nintendo</td>\n      <td>1989</td>\n      <td>2003</td>\n      <td>64.42</td>\n      <td>The Game Boy (1989) and the Game Boy Color (19...</td>\n    </tr>\n    <tr>\n      <th>4</th>\n      <td>Game Boy Color</td>\n      <td>Handheld</td>\n      <td>Nintendo</td>\n      <td>1998</td>\n      <td>2003</td>\n      <td>44.06</td>\n      <td>NaN</td>\n    </tr>\n    <tr>\n      <th>5</th>\n      <td>PlayStation 4</td>\n      <td>Home</td>\n      <td>Sony</td>\n      <td>2013</td>\n      <td>0</td>\n      <td>117.20</td>\n      <td>NaN</td>\n    </tr>\n    <tr>\n      <th>6</th>\n      <td>PlayStation</td>\n      <td>Home</td>\n      <td>Sony</td>\n      <td>1994</td>\n      <td>2006</td>\n      <td>102.49</td>\n      <td>NaN</td>\n    </tr>\n    <tr>\n      <th>7</th>\n      <td>Wii</td>\n      <td>Home</td>\n      <td>Nintendo</td>\n      <td>2006</td>\n      <td>2013</td>\n      <td>101.63</td>\n      <td>NaN</td>\n    </tr>\n    <tr>\n      <th>8</th>\n      <td>PlayStation 3</td>\n      <td>Home</td>\n      <td>Sony</td>\n      <td>2006</td>\n      <td>2017</td>\n      <td>87.40</td>\n      <td>Final sales are greater than 87.4 million</td>\n    </tr>\n    <tr>\n      <th>9</th>\n      <td>Xbox 360</td>\n      <td>Home</td>\n      <td>Microsoft</td>\n      <td>2005</td>\n      <td>2016</td>\n      <td>84.00</td>\n      <td>Final sales are greater than 84 million</td>\n    </tr>\n    <tr>\n      <th>10</th>\n      <td>Game Boy Advance</td>\n      <td>Handheld</td>\n      <td>Nintendo</td>\n      <td>2001</td>\n      <td>2010</td>\n      <td>81.51</td>\n      <td>NaN</td>\n    </tr>\n    <tr>\n      <th>11</th>\n      <td>PlayStation Portable</td>\n      <td>Handheld</td>\n      <td>Sony</td>\n      <td>2004</td>\n      <td>2014</td>\n      <td>82.00</td>\n      <td>Estimated between 80-82 million</td>\n    </tr>\n    <tr>\n      <th>12</th>\n      <td>Nintendo 3DS</td>\n      <td>Handheld</td>\n      <td>Nintendo</td>\n      <td>2011</td>\n      <td>2020</td>\n      <td>75.94</td>\n      <td>NaN</td>\n    </tr>\n    <tr>\n      <th>13</th>\n      <td>NES/Famicom</td>\n      <td>Home</td>\n      <td>Nintendo</td>\n      <td>1983</td>\n      <td>2003</td>\n      <td>61.91</td>\n      <td>NaN</td>\n    </tr>\n    <tr>\n      <th>14</th>\n      <td>Xbox One</td>\n      <td>Home</td>\n      <td>Microsoft</td>\n      <td>2013</td>\n      <td>2020</td>\n      <td>58.50</td>\n      <td>Estimated between 51-58.5 million</td>\n    </tr>\n    <tr>\n      <th>15</th>\n      <td>SNES/Super Famicom</td>\n      <td>Home</td>\n      <td>Nintendo</td>\n      <td>1990</td>\n      <td>2003</td>\n      <td>49.10</td>\n      <td>NaN</td>\n    </tr>\n    <tr>\n      <th>16</th>\n      <td>Game &amp; Watch</td>\n      <td>Handheld</td>\n      <td>Nintendo</td>\n      <td>1980</td>\n      <td>1991</td>\n      <td>43.40</td>\n      <td>NaN</td>\n    </tr>\n    <tr>\n      <th>17</th>\n      <td>Nintendo 64</td>\n      <td>Home</td>\n      <td>Nintendo</td>\n      <td>1996</td>\n      <td>2002</td>\n      <td>32.93</td>\n      <td>NaN</td>\n    </tr>\n    <tr>\n      <th>18</th>\n      <td>Sega Genesis/Mega Drive</td>\n      <td>Home</td>\n      <td>Sega</td>\n      <td>1988</td>\n      <td>1997</td>\n      <td>30.75</td>\n      <td>NaN</td>\n    </tr>\n    <tr>\n      <th>19</th>\n      <td>PlayStation 5</td>\n      <td>Home</td>\n      <td>Sony</td>\n      <td>2020</td>\n      <td>0</td>\n      <td>30.00</td>\n      <td>NaN</td>\n    </tr>\n  </tbody>\n</table>\n</div>"
     },
     "execution_count": 178,
     "metadata": {},
     "output_type": "execute_result"
    }
   ],
   "source": [
    "import numpy as np\n",
    "import pandas as pd\n",
    "from tabulate import tabulate\n",
    "import seaborn as sns\n",
    "import matplotlib.ticker as mtick\n",
    "import matplotlib.pyplot as plt\n",
    "from sklearn.preprocessing import MinMaxScaler\n",
    "from sklearn import metrics\n",
    "from sklearn.model_selection import train_test_split\n",
    "\n",
    "df = pd.read_csv(\"best-selling game consoles.csv\")\n",
    "df.head(20)"
   ]
  },
  {
   "cell_type": "markdown",
   "source": [
    "<h3>This dataset provides information on the best-selling game consoles of all time. It includes essential\n",
    "details such as the console name, manufacturer, release year, total units sold, and additional relevant\n",
    "information.<h3>"
   ],
   "metadata": {
    "collapsed": false
   }
  },
  {
   "cell_type": "markdown",
   "source": [
    "<h2>Data info<h2>"
   ],
   "metadata": {
    "collapsed": false
   }
  },
  {
   "cell_type": "code",
   "execution_count": 179,
   "outputs": [
    {
     "name": "stdout",
     "output_type": "stream",
     "text": [
      "<class 'pandas.core.frame.DataFrame'>\n",
      "RangeIndex: 51 entries, 0 to 50\n",
      "Data columns (total 7 columns):\n",
      " #   Column                Non-Null Count  Dtype  \n",
      "---  ------                --------------  -----  \n",
      " 0   Console Name          51 non-null     object \n",
      " 1   Type                  51 non-null     object \n",
      " 2   Company               51 non-null     object \n",
      " 3   Released Year         51 non-null     int64  \n",
      " 4   Discontinuation Year  51 non-null     int64  \n",
      " 5   Units sold (million)  51 non-null     float64\n",
      " 6   Remarks               16 non-null     object \n",
      "dtypes: float64(1), int64(2), object(4)\n",
      "memory usage: 2.9+ KB\n"
     ]
    },
    {
     "data": {
      "text/plain": "       Released Year  Discontinuation Year  Units sold (million)\ncount      51.000000             51.000000             51.000000\nmean     1996.058824           1844.803922             35.549412\nstd        12.378064            543.657319             42.608844\nmin      1976.000000              0.000000              1.000000\n25%      1987.500000           1992.000000              3.200000\n50%      1994.000000           1998.000000             13.560000\n75%      2004.500000           2011.500000             60.205000\nmax      2020.000000           2020.000000            155.000000",
      "text/html": "<div>\n<style scoped>\n    .dataframe tbody tr th:only-of-type {\n        vertical-align: middle;\n    }\n\n    .dataframe tbody tr th {\n        vertical-align: top;\n    }\n\n    .dataframe thead th {\n        text-align: right;\n    }\n</style>\n<table border=\"1\" class=\"dataframe\">\n  <thead>\n    <tr style=\"text-align: right;\">\n      <th></th>\n      <th>Released Year</th>\n      <th>Discontinuation Year</th>\n      <th>Units sold (million)</th>\n    </tr>\n  </thead>\n  <tbody>\n    <tr>\n      <th>count</th>\n      <td>51.000000</td>\n      <td>51.000000</td>\n      <td>51.000000</td>\n    </tr>\n    <tr>\n      <th>mean</th>\n      <td>1996.058824</td>\n      <td>1844.803922</td>\n      <td>35.549412</td>\n    </tr>\n    <tr>\n      <th>std</th>\n      <td>12.378064</td>\n      <td>543.657319</td>\n      <td>42.608844</td>\n    </tr>\n    <tr>\n      <th>min</th>\n      <td>1976.000000</td>\n      <td>0.000000</td>\n      <td>1.000000</td>\n    </tr>\n    <tr>\n      <th>25%</th>\n      <td>1987.500000</td>\n      <td>1992.000000</td>\n      <td>3.200000</td>\n    </tr>\n    <tr>\n      <th>50%</th>\n      <td>1994.000000</td>\n      <td>1998.000000</td>\n      <td>13.560000</td>\n    </tr>\n    <tr>\n      <th>75%</th>\n      <td>2004.500000</td>\n      <td>2011.500000</td>\n      <td>60.205000</td>\n    </tr>\n    <tr>\n      <th>max</th>\n      <td>2020.000000</td>\n      <td>2020.000000</td>\n      <td>155.000000</td>\n    </tr>\n  </tbody>\n</table>\n</div>"
     },
     "execution_count": 179,
     "metadata": {},
     "output_type": "execute_result"
    }
   ],
   "source": [
    "df.info()\n",
    "\n",
    "df.describe()"
   ],
   "metadata": {
    "collapsed": false
   }
  },
  {
   "cell_type": "markdown",
   "source": [
    "<h4>Here I basic information about the dataset. For example; there is 51 gaming consoles, and I can see what dtype all columns are. In \"describe\" I see the descriptive statistics on the numerical variables<h4>"
   ],
   "metadata": {
    "collapsed": false
   }
  },
  {
   "cell_type": "markdown",
   "source": [
    "<h4>Description of dataset variables\n",
    "\n",
    "Console Name: The name of the game console.\n",
    "\n",
    "Type: The type of console (e.g., home console, handheld console).\n",
    "\n",
    "Company: The company that manufactured the console.\n",
    "\n",
    "Released Year: The year in which the console was first released.\n",
    "\n",
    "Discontinuation Year: The year in which the console was discontinued (if applicable).\n",
    "\n",
    "Units Sold (million): The total number of units sold worldwide, in millions.\n",
    "\n",
    "Remarks: Any additional remarks or comments about the console (if applicable).<h4>"
   ],
   "metadata": {
    "collapsed": false
   }
  },
  {
   "cell_type": "markdown",
   "source": [
    "<h2>Data cleaning<h2>"
   ],
   "metadata": {
    "collapsed": false
   }
  },
  {
   "cell_type": "code",
   "execution_count": 180,
   "outputs": [
    {
     "data": {
      "text/plain": "Console Name             object\nType                     object\nCompany                  object\nReleased Year             int64\nDiscontinuation Year      int64\nUnits sold (million)    float64\nRemarks                  object\ndtype: object"
     },
     "execution_count": 180,
     "metadata": {},
     "output_type": "execute_result"
    }
   ],
   "source": [
    "df.dtypes"
   ],
   "metadata": {
    "collapsed": false
   }
  },
  {
   "cell_type": "markdown",
   "source": [
    "<h4>Checking for duplicates<h4>"
   ],
   "metadata": {
    "collapsed": false
   }
  },
  {
   "cell_type": "code",
   "execution_count": 181,
   "outputs": [
    {
     "data": {
      "text/plain": "0     False\n1     False\n2     False\n3     False\n4     False\n5     False\n6     False\n7     False\n8     False\n9     False\n10    False\n11    False\n12    False\n13    False\n14    False\n15    False\n16    False\n17    False\n18    False\n19    False\n20    False\n21    False\n22    False\n23    False\n24    False\n25    False\n26    False\n27    False\n28    False\n29    False\n30    False\n31    False\n32    False\n33    False\n34    False\n35    False\n36    False\n37    False\n38    False\n39    False\n40    False\n41    False\n42    False\n43    False\n44    False\n45    False\n46    False\n47    False\n48    False\n49    False\n50    False\ndtype: bool"
     },
     "execution_count": 181,
     "metadata": {},
     "output_type": "execute_result"
    }
   ],
   "source": [
    "df.duplicated()"
   ],
   "metadata": {
    "collapsed": false
   }
  },
  {
   "cell_type": "markdown",
   "source": [
    "<h4>\n",
    "Here im looking for missing values.\n",
    "The result show that there are 35 missing vaules in \"Remarks\"<h4>"
   ],
   "metadata": {
    "collapsed": false
   }
  },
  {
   "cell_type": "code",
   "execution_count": 182,
   "outputs": [
    {
     "data": {
      "text/plain": "Console Name             0\nType                     0\nCompany                  0\nReleased Year            0\nDiscontinuation Year     0\nUnits sold (million)     0\nRemarks                 35\ndtype: int64"
     },
     "execution_count": 182,
     "metadata": {},
     "output_type": "execute_result"
    }
   ],
   "source": [
    "df.isnull().sum()"
   ],
   "metadata": {
    "collapsed": false
   }
  },
  {
   "cell_type": "code",
   "execution_count": 183,
   "outputs": [],
   "source": [
    "df = df.drop('Remarks', axis=1)"
   ],
   "metadata": {
    "collapsed": false
   }
  },
  {
   "cell_type": "markdown",
   "source": [
    "<h4>\n",
    "Descriptive statistics on categorical variables\n",
    "<h4>"
   ],
   "metadata": {
    "collapsed": false
   }
  },
  {
   "cell_type": "code",
   "execution_count": 189,
   "outputs": [
    {
     "data": {
      "text/plain": "                         Console Name  Type   Company  Released Year  \\\n0                          Atari 2600  Home  Nintendo         1990.0   \n1                          Atari 5200   NaN       NaN            NaN   \n2                          Atari 7800   NaN       NaN            NaN   \n3                          Atari Lynx   NaN       NaN            NaN   \n4                        ColecoVision   NaN       NaN            NaN   \n5                       Color TV-Game   NaN       NaN            NaN   \n6                    Dendy(Famiclone)   NaN       NaN            NaN   \n7                           Dreamcast   NaN       NaN            NaN   \n8                 Famicom Disk System   NaN       NaN            NaN   \n9                        Game & Watch   NaN       NaN            NaN   \n10                           Game Boy   NaN       NaN            NaN   \n11                   Game Boy Advance   NaN       NaN            NaN   \n12                     Game Boy Color   NaN       NaN            NaN   \n13                           GameCube   NaN       NaN            NaN   \n14                      Intellivision   NaN       NaN            NaN   \n15                   Magnavox Odyssey   NaN       NaN            NaN   \n16  Master System(Brazilian variants)   NaN       NaN            NaN   \n17     Mega Drive(Brazilian variants)   NaN       NaN            NaN   \n18                             N-Gage   NaN       NaN            NaN   \n19                NES Classic Edition   NaN       NaN            NaN   \n20                        NES/Famicom   NaN       NaN            NaN   \n21                       Nintendo 3DS   NaN       NaN            NaN   \n22                        Nintendo 64   NaN       NaN            NaN   \n23                        Nintendo DS   NaN       NaN            NaN   \n24                    Nintendo Switch   NaN       NaN            NaN   \n25                   PC Engine CD-ROM   NaN       NaN            NaN   \n26            PC Engine/TurboGrafx-16   NaN       NaN            NaN   \n27                       Philips CD-i   NaN       NaN            NaN   \n28                        PlayStation   NaN       NaN            NaN   \n29                      PlayStation 2   NaN       NaN            NaN   \n30                      PlayStation 3   NaN       NaN            NaN   \n31                      PlayStation 4   NaN       NaN            NaN   \n32                      PlayStation 5   NaN       NaN            NaN   \n33               PlayStation Portable   NaN       NaN            NaN   \n34                   PlayStation Vita   NaN       NaN            NaN   \n35                 SNES/Super Famicom   NaN       NaN            NaN   \n36                            Sega CD   NaN       NaN            NaN   \n37                     Sega Game Gear   NaN       NaN            NaN   \n38            Sega Genesis/Mega Drive   NaN       NaN            NaN   \n39                 Sega Master System   NaN       NaN            NaN   \n40                          Sega Pico   NaN       NaN            NaN   \n41                        Sega Saturn   NaN       NaN            NaN   \n42          Super NES Classic Edition   NaN       NaN            NaN   \n43                            Telstar   NaN       NaN            NaN   \n44                                Wii   NaN       NaN            NaN   \n45                              Wii U   NaN       NaN            NaN   \n46                         WonderSwan   NaN       NaN            NaN   \n47                               Xbox   NaN       NaN            NaN   \n48                           Xbox 360   NaN       NaN            NaN   \n49                           Xbox One   NaN       NaN            NaN   \n50                    Xbox Series X/S   NaN       NaN            NaN   \n\n    Discontinuation Year  Units sold (million)  \n0                    0.0                   1.0  \n1                 1996.0                   NaN  \n2                 1998.0                   NaN  \n3                 2003.0                   NaN  \n4                    NaN                   NaN  \n5                    NaN                   NaN  \n6                    NaN                   NaN  \n7                    NaN                   NaN  \n8                    NaN                   NaN  \n9                    NaN                   NaN  \n10                   NaN                   NaN  \n11                   NaN                   NaN  \n12                   NaN                   NaN  \n13                   NaN                   NaN  \n14                   NaN                   NaN  \n15                   NaN                   NaN  \n16                   NaN                   NaN  \n17                   NaN                   NaN  \n18                   NaN                   NaN  \n19                   NaN                   NaN  \n20                   NaN                   NaN  \n21                   NaN                   NaN  \n22                   NaN                   NaN  \n23                   NaN                   NaN  \n24                   NaN                   NaN  \n25                   NaN                   NaN  \n26                   NaN                   NaN  \n27                   NaN                   NaN  \n28                   NaN                   NaN  \n29                   NaN                   NaN  \n30                   NaN                   NaN  \n31                   NaN                   NaN  \n32                   NaN                   NaN  \n33                   NaN                   NaN  \n34                   NaN                   NaN  \n35                   NaN                   NaN  \n36                   NaN                   NaN  \n37                   NaN                   NaN  \n38                   NaN                   NaN  \n39                   NaN                   NaN  \n40                   NaN                   NaN  \n41                   NaN                   NaN  \n42                   NaN                   NaN  \n43                   NaN                   NaN  \n44                   NaN                   NaN  \n45                   NaN                   NaN  \n46                   NaN                   NaN  \n47                   NaN                   NaN  \n48                   NaN                   NaN  \n49                   NaN                   NaN  \n50                   NaN                   NaN  ",
      "text/html": "<div>\n<style scoped>\n    .dataframe tbody tr th:only-of-type {\n        vertical-align: middle;\n    }\n\n    .dataframe tbody tr th {\n        vertical-align: top;\n    }\n\n    .dataframe thead th {\n        text-align: right;\n    }\n</style>\n<table border=\"1\" class=\"dataframe\">\n  <thead>\n    <tr style=\"text-align: right;\">\n      <th></th>\n      <th>Console Name</th>\n      <th>Type</th>\n      <th>Company</th>\n      <th>Released Year</th>\n      <th>Discontinuation Year</th>\n      <th>Units sold (million)</th>\n    </tr>\n  </thead>\n  <tbody>\n    <tr>\n      <th>0</th>\n      <td>Atari 2600</td>\n      <td>Home</td>\n      <td>Nintendo</td>\n      <td>1990.0</td>\n      <td>0.0</td>\n      <td>1.0</td>\n    </tr>\n    <tr>\n      <th>1</th>\n      <td>Atari 5200</td>\n      <td>NaN</td>\n      <td>NaN</td>\n      <td>NaN</td>\n      <td>1996.0</td>\n      <td>NaN</td>\n    </tr>\n    <tr>\n      <th>2</th>\n      <td>Atari 7800</td>\n      <td>NaN</td>\n      <td>NaN</td>\n      <td>NaN</td>\n      <td>1998.0</td>\n      <td>NaN</td>\n    </tr>\n    <tr>\n      <th>3</th>\n      <td>Atari Lynx</td>\n      <td>NaN</td>\n      <td>NaN</td>\n      <td>NaN</td>\n      <td>2003.0</td>\n      <td>NaN</td>\n    </tr>\n    <tr>\n      <th>4</th>\n      <td>ColecoVision</td>\n      <td>NaN</td>\n      <td>NaN</td>\n      <td>NaN</td>\n      <td>NaN</td>\n      <td>NaN</td>\n    </tr>\n    <tr>\n      <th>5</th>\n      <td>Color TV-Game</td>\n      <td>NaN</td>\n      <td>NaN</td>\n      <td>NaN</td>\n      <td>NaN</td>\n      <td>NaN</td>\n    </tr>\n    <tr>\n      <th>6</th>\n      <td>Dendy(Famiclone)</td>\n      <td>NaN</td>\n      <td>NaN</td>\n      <td>NaN</td>\n      <td>NaN</td>\n      <td>NaN</td>\n    </tr>\n    <tr>\n      <th>7</th>\n      <td>Dreamcast</td>\n      <td>NaN</td>\n      <td>NaN</td>\n      <td>NaN</td>\n      <td>NaN</td>\n      <td>NaN</td>\n    </tr>\n    <tr>\n      <th>8</th>\n      <td>Famicom Disk System</td>\n      <td>NaN</td>\n      <td>NaN</td>\n      <td>NaN</td>\n      <td>NaN</td>\n      <td>NaN</td>\n    </tr>\n    <tr>\n      <th>9</th>\n      <td>Game &amp; Watch</td>\n      <td>NaN</td>\n      <td>NaN</td>\n      <td>NaN</td>\n      <td>NaN</td>\n      <td>NaN</td>\n    </tr>\n    <tr>\n      <th>10</th>\n      <td>Game Boy</td>\n      <td>NaN</td>\n      <td>NaN</td>\n      <td>NaN</td>\n      <td>NaN</td>\n      <td>NaN</td>\n    </tr>\n    <tr>\n      <th>11</th>\n      <td>Game Boy Advance</td>\n      <td>NaN</td>\n      <td>NaN</td>\n      <td>NaN</td>\n      <td>NaN</td>\n      <td>NaN</td>\n    </tr>\n    <tr>\n      <th>12</th>\n      <td>Game Boy Color</td>\n      <td>NaN</td>\n      <td>NaN</td>\n      <td>NaN</td>\n      <td>NaN</td>\n      <td>NaN</td>\n    </tr>\n    <tr>\n      <th>13</th>\n      <td>GameCube</td>\n      <td>NaN</td>\n      <td>NaN</td>\n      <td>NaN</td>\n      <td>NaN</td>\n      <td>NaN</td>\n    </tr>\n    <tr>\n      <th>14</th>\n      <td>Intellivision</td>\n      <td>NaN</td>\n      <td>NaN</td>\n      <td>NaN</td>\n      <td>NaN</td>\n      <td>NaN</td>\n    </tr>\n    <tr>\n      <th>15</th>\n      <td>Magnavox Odyssey</td>\n      <td>NaN</td>\n      <td>NaN</td>\n      <td>NaN</td>\n      <td>NaN</td>\n      <td>NaN</td>\n    </tr>\n    <tr>\n      <th>16</th>\n      <td>Master System(Brazilian variants)</td>\n      <td>NaN</td>\n      <td>NaN</td>\n      <td>NaN</td>\n      <td>NaN</td>\n      <td>NaN</td>\n    </tr>\n    <tr>\n      <th>17</th>\n      <td>Mega Drive(Brazilian variants)</td>\n      <td>NaN</td>\n      <td>NaN</td>\n      <td>NaN</td>\n      <td>NaN</td>\n      <td>NaN</td>\n    </tr>\n    <tr>\n      <th>18</th>\n      <td>N-Gage</td>\n      <td>NaN</td>\n      <td>NaN</td>\n      <td>NaN</td>\n      <td>NaN</td>\n      <td>NaN</td>\n    </tr>\n    <tr>\n      <th>19</th>\n      <td>NES Classic Edition</td>\n      <td>NaN</td>\n      <td>NaN</td>\n      <td>NaN</td>\n      <td>NaN</td>\n      <td>NaN</td>\n    </tr>\n    <tr>\n      <th>20</th>\n      <td>NES/Famicom</td>\n      <td>NaN</td>\n      <td>NaN</td>\n      <td>NaN</td>\n      <td>NaN</td>\n      <td>NaN</td>\n    </tr>\n    <tr>\n      <th>21</th>\n      <td>Nintendo 3DS</td>\n      <td>NaN</td>\n      <td>NaN</td>\n      <td>NaN</td>\n      <td>NaN</td>\n      <td>NaN</td>\n    </tr>\n    <tr>\n      <th>22</th>\n      <td>Nintendo 64</td>\n      <td>NaN</td>\n      <td>NaN</td>\n      <td>NaN</td>\n      <td>NaN</td>\n      <td>NaN</td>\n    </tr>\n    <tr>\n      <th>23</th>\n      <td>Nintendo DS</td>\n      <td>NaN</td>\n      <td>NaN</td>\n      <td>NaN</td>\n      <td>NaN</td>\n      <td>NaN</td>\n    </tr>\n    <tr>\n      <th>24</th>\n      <td>Nintendo Switch</td>\n      <td>NaN</td>\n      <td>NaN</td>\n      <td>NaN</td>\n      <td>NaN</td>\n      <td>NaN</td>\n    </tr>\n    <tr>\n      <th>25</th>\n      <td>PC Engine CD-ROM</td>\n      <td>NaN</td>\n      <td>NaN</td>\n      <td>NaN</td>\n      <td>NaN</td>\n      <td>NaN</td>\n    </tr>\n    <tr>\n      <th>26</th>\n      <td>PC Engine/TurboGrafx-16</td>\n      <td>NaN</td>\n      <td>NaN</td>\n      <td>NaN</td>\n      <td>NaN</td>\n      <td>NaN</td>\n    </tr>\n    <tr>\n      <th>27</th>\n      <td>Philips CD-i</td>\n      <td>NaN</td>\n      <td>NaN</td>\n      <td>NaN</td>\n      <td>NaN</td>\n      <td>NaN</td>\n    </tr>\n    <tr>\n      <th>28</th>\n      <td>PlayStation</td>\n      <td>NaN</td>\n      <td>NaN</td>\n      <td>NaN</td>\n      <td>NaN</td>\n      <td>NaN</td>\n    </tr>\n    <tr>\n      <th>29</th>\n      <td>PlayStation 2</td>\n      <td>NaN</td>\n      <td>NaN</td>\n      <td>NaN</td>\n      <td>NaN</td>\n      <td>NaN</td>\n    </tr>\n    <tr>\n      <th>30</th>\n      <td>PlayStation 3</td>\n      <td>NaN</td>\n      <td>NaN</td>\n      <td>NaN</td>\n      <td>NaN</td>\n      <td>NaN</td>\n    </tr>\n    <tr>\n      <th>31</th>\n      <td>PlayStation 4</td>\n      <td>NaN</td>\n      <td>NaN</td>\n      <td>NaN</td>\n      <td>NaN</td>\n      <td>NaN</td>\n    </tr>\n    <tr>\n      <th>32</th>\n      <td>PlayStation 5</td>\n      <td>NaN</td>\n      <td>NaN</td>\n      <td>NaN</td>\n      <td>NaN</td>\n      <td>NaN</td>\n    </tr>\n    <tr>\n      <th>33</th>\n      <td>PlayStation Portable</td>\n      <td>NaN</td>\n      <td>NaN</td>\n      <td>NaN</td>\n      <td>NaN</td>\n      <td>NaN</td>\n    </tr>\n    <tr>\n      <th>34</th>\n      <td>PlayStation Vita</td>\n      <td>NaN</td>\n      <td>NaN</td>\n      <td>NaN</td>\n      <td>NaN</td>\n      <td>NaN</td>\n    </tr>\n    <tr>\n      <th>35</th>\n      <td>SNES/Super Famicom</td>\n      <td>NaN</td>\n      <td>NaN</td>\n      <td>NaN</td>\n      <td>NaN</td>\n      <td>NaN</td>\n    </tr>\n    <tr>\n      <th>36</th>\n      <td>Sega CD</td>\n      <td>NaN</td>\n      <td>NaN</td>\n      <td>NaN</td>\n      <td>NaN</td>\n      <td>NaN</td>\n    </tr>\n    <tr>\n      <th>37</th>\n      <td>Sega Game Gear</td>\n      <td>NaN</td>\n      <td>NaN</td>\n      <td>NaN</td>\n      <td>NaN</td>\n      <td>NaN</td>\n    </tr>\n    <tr>\n      <th>38</th>\n      <td>Sega Genesis/Mega Drive</td>\n      <td>NaN</td>\n      <td>NaN</td>\n      <td>NaN</td>\n      <td>NaN</td>\n      <td>NaN</td>\n    </tr>\n    <tr>\n      <th>39</th>\n      <td>Sega Master System</td>\n      <td>NaN</td>\n      <td>NaN</td>\n      <td>NaN</td>\n      <td>NaN</td>\n      <td>NaN</td>\n    </tr>\n    <tr>\n      <th>40</th>\n      <td>Sega Pico</td>\n      <td>NaN</td>\n      <td>NaN</td>\n      <td>NaN</td>\n      <td>NaN</td>\n      <td>NaN</td>\n    </tr>\n    <tr>\n      <th>41</th>\n      <td>Sega Saturn</td>\n      <td>NaN</td>\n      <td>NaN</td>\n      <td>NaN</td>\n      <td>NaN</td>\n      <td>NaN</td>\n    </tr>\n    <tr>\n      <th>42</th>\n      <td>Super NES Classic Edition</td>\n      <td>NaN</td>\n      <td>NaN</td>\n      <td>NaN</td>\n      <td>NaN</td>\n      <td>NaN</td>\n    </tr>\n    <tr>\n      <th>43</th>\n      <td>Telstar</td>\n      <td>NaN</td>\n      <td>NaN</td>\n      <td>NaN</td>\n      <td>NaN</td>\n      <td>NaN</td>\n    </tr>\n    <tr>\n      <th>44</th>\n      <td>Wii</td>\n      <td>NaN</td>\n      <td>NaN</td>\n      <td>NaN</td>\n      <td>NaN</td>\n      <td>NaN</td>\n    </tr>\n    <tr>\n      <th>45</th>\n      <td>Wii U</td>\n      <td>NaN</td>\n      <td>NaN</td>\n      <td>NaN</td>\n      <td>NaN</td>\n      <td>NaN</td>\n    </tr>\n    <tr>\n      <th>46</th>\n      <td>WonderSwan</td>\n      <td>NaN</td>\n      <td>NaN</td>\n      <td>NaN</td>\n      <td>NaN</td>\n      <td>NaN</td>\n    </tr>\n    <tr>\n      <th>47</th>\n      <td>Xbox</td>\n      <td>NaN</td>\n      <td>NaN</td>\n      <td>NaN</td>\n      <td>NaN</td>\n      <td>NaN</td>\n    </tr>\n    <tr>\n      <th>48</th>\n      <td>Xbox 360</td>\n      <td>NaN</td>\n      <td>NaN</td>\n      <td>NaN</td>\n      <td>NaN</td>\n      <td>NaN</td>\n    </tr>\n    <tr>\n      <th>49</th>\n      <td>Xbox One</td>\n      <td>NaN</td>\n      <td>NaN</td>\n      <td>NaN</td>\n      <td>NaN</td>\n      <td>NaN</td>\n    </tr>\n    <tr>\n      <th>50</th>\n      <td>Xbox Series X/S</td>\n      <td>NaN</td>\n      <td>NaN</td>\n      <td>NaN</td>\n      <td>NaN</td>\n      <td>NaN</td>\n    </tr>\n  </tbody>\n</table>\n</div>"
     },
     "execution_count": 189,
     "metadata": {},
     "output_type": "execute_result"
    }
   ],
   "source": [
    "df.mode()"
   ],
   "metadata": {
    "collapsed": false
   }
  },
  {
   "cell_type": "code",
   "execution_count": 190,
   "outputs": [
    {
     "name": "stdout",
     "output_type": "stream",
     "text": [
      "Console Name                       Type                 Company                  Released Year  Discontinuation Year  Units sold (million)\n",
      "Atari 2600                         Home                 Atari                    1977           1992                  30.00                   1\n",
      "Sega Genesis/Mega Drive            Home                 Sega                     1988           1997                  30.75                   1\n",
      "PlayStation                        Home                 Sony                     1994           2006                  102.49                  1\n",
      "PlayStation 2                      Home                 Sony                     2000           2013                  155.00                  1\n",
      "PlayStation 3                      Home                 Sony                     2006           2017                  87.40                   1\n",
      "PlayStation 4                      Home                 Sony                     2013           0                     117.20                  1\n",
      "PlayStation 5                      Home                 Sony                     2020           0                     30.00                   1\n",
      "PlayStation Portable               Handheld             Sony                     2004           2014                  82.00                   1\n",
      "PlayStation Vita                   Handheld             Sony                     2011           2019                  15.00                   1\n",
      "SNES/Super Famicom                 Home                 Nintendo                 1990           2003                  49.10                   1\n",
      "Sega CD                            Home console add-on  Sega                     1991           1996                  2.24                    1\n",
      "Sega Game Gear                     Handheld             Sega                     1990           1997                  10.62                   1\n",
      "Sega Master System                 Home                 Sega                     1986           1996                  13.00                   1\n",
      "PC Engine/TurboGrafx-16            Home                 NEC/Hudson Soft[note 6]  1987           1994                  10.00                   1\n",
      "Sega Pico                          Home                 Sega                     1993           1998                  3.40                    1\n",
      "Sega Saturn                        Home                 Sega                     1994           2000                  9.26                    1\n",
      "Super NES Classic Edition          Dedicated            Nintendo                 2017           2018                  5.28                    1\n",
      "Telstar                            Dedicated            Coleco                   1976           1978                  1.00                    1\n",
      "Wii                                Home                 Nintendo                 2006           2013                  101.63                  1\n",
      "Wii U                              Home                 Nintendo                 2012           2017                  13.56                   1\n",
      "WonderSwan                         Handheld             Bandai                   1999           2018                  3.50                    1\n",
      "Xbox                               Home                 Microsoft                2001           2009                  24.00                   1\n",
      "Xbox 360                           Home                 Microsoft                2005           2016                  84.00                   1\n",
      "Xbox One                           Home                 Microsoft                2013           2020                  58.50                   1\n",
      "Philips CD-i                       Home                 Philips                  1990           1998                  1.00                    1\n",
      "PC Engine CD-ROM                   Home console add-on  NEC                      1988           1998                  1.92                    1\n",
      "Atari 5200                         Home                 Atari                    1982           1984                  1.00                    1\n",
      "Game Boy Color                     Handheld             Nintendo                 1998           2003                  44.06                   1\n",
      "Atari 7800                         Home                 Atari                    1986           1991                  1.00                    1\n",
      "Atari Lynx                         Handheld             Atari                    1989           1995                  1.00                    1\n",
      "ColecoVision                       Home                 Coleco                   1982           1985                  2.00                    1\n",
      "Color TV-Game                      Dedicated            Nintendo                 1977           1980                  3.00                    1\n",
      "Dendy(Famiclone)                   Home                 Micro Genius             1992           1998                  6.00                    1\n",
      "Dreamcast                          Home                 Sega                     1998           2001                  9.13                    1\n",
      "Famicom Disk System                Home console add-on  Nintendo                 1986           1992                  4.50                    1\n",
      "Game & Watch                       Handheld             Nintendo                 1980           1991                  43.40                   1\n",
      "Game Boy                           Handheld             Nintendo                 1989           2003                  64.42                   1\n",
      "Game Boy Advance                   Handheld             Nintendo                 2001           2010                  81.51                   1\n",
      "GameCube                           Home                 Nintendo                 2001           2007                  21.74                   1\n",
      "Nintendo Switch                    Hybrid               Nintendo                 2017           0                     122.55                  1\n",
      "Intellivision                      Home                 Mattel                   1980           1990                  3.00                    1\n",
      "Magnavox Odyssey                   Home                 Magnavox/Philips         1978           1975                  2.00                    1\n",
      "Master System(Brazilian variants)  Home                 Tectoy                   1989           1996                  8.00                    1\n",
      "Mega Drive(Brazilian variants)     Home                 Tectoy                   1990           1996                  3.00                    1\n",
      "N-Gage                             Handheld             Nokia                    2003           2005                  3.00                    1\n",
      "NES Classic Edition                Dedicated            Nintendo                 2016           2018                  3.56                    1\n",
      "NES/Famicom                        Home                 Nintendo                 1983           2003                  61.91                   1\n",
      "Nintendo 3DS                       Handheld             Nintendo                 2011           2020                  75.94                   1\n",
      "Nintendo 64                        Home                 Nintendo                 1996           2002                  32.93                   1\n",
      "Nintendo DS                        Handheld             Nintendo                 2004           2013                  154.02                  1\n",
      "Xbox Series X/S                    Home                 Microsoft                2020           0                     18.50                   1\n",
      "dtype: int64\n"
     ]
    }
   ],
   "source": [
    "count = df.value_counts()\n",
    "print(count)"
   ],
   "metadata": {
    "collapsed": false
   }
  },
  {
   "cell_type": "code",
   "execution_count": 190,
   "outputs": [],
   "source": [],
   "metadata": {
    "collapsed": false
   }
  }
 ],
 "metadata": {
  "kernelspec": {
   "display_name": "Python 3",
   "language": "python",
   "name": "python3"
  },
  "language_info": {
   "codemirror_mode": {
    "name": "ipython",
    "version": 2
   },
   "file_extension": ".py",
   "mimetype": "text/x-python",
   "name": "python",
   "nbconvert_exporter": "python",
   "pygments_lexer": "ipython2",
   "version": "2.7.6"
  }
 },
 "nbformat": 4,
 "nbformat_minor": 0
}
