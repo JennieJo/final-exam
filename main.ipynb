{
 "cells": [
  {
   "cell_type": "code",
   "execution_count": 22,
   "metadata": {
    "collapsed": true
   },
   "outputs": [
    {
     "data": {
      "text/plain": "               Console Name      Type    Company  Released Year  \\\n0             PlayStation 2      Home       Sony           2000   \n1               Nintendo DS  Handheld   Nintendo           2004   \n2           Nintendo Switch    Hybrid   Nintendo           2017   \n3                  Game Boy  Handheld   Nintendo           1989   \n4            Game Boy Color  Handheld   Nintendo           1998   \n5             PlayStation 4      Home       Sony           2013   \n6               PlayStation      Home       Sony           1994   \n7                       Wii      Home   Nintendo           2006   \n8             PlayStation 3      Home       Sony           2006   \n9                  Xbox 360      Home  Microsoft           2005   \n10         Game Boy Advance  Handheld   Nintendo           2001   \n11     PlayStation Portable  Handheld       Sony           2004   \n12             Nintendo 3DS  Handheld   Nintendo           2011   \n13              NES/Famicom      Home   Nintendo           1983   \n14                 Xbox One      Home  Microsoft           2013   \n15       SNES/Super Famicom      Home   Nintendo           1990   \n16             Game & Watch  Handheld   Nintendo           1980   \n17              Nintendo 64      Home   Nintendo           1996   \n18  Sega Genesis/Mega Drive      Home       Sega           1988   \n19            PlayStation 5      Home       Sony           2020   \n\n    Discontinuation Year  Units sold (million)  \\\n0                   2013                155.00   \n1                   2013                154.02   \n2                      0                122.55   \n3                   2003                 64.42   \n4                   2003                 44.06   \n5                      0                117.20   \n6                   2006                102.49   \n7                   2013                101.63   \n8                   2017                 87.40   \n9                   2016                 84.00   \n10                  2010                 81.51   \n11                  2014                 82.00   \n12                  2020                 75.94   \n13                  2003                 61.91   \n14                  2020                 58.50   \n15                  2003                 49.10   \n16                  1991                 43.40   \n17                  2002                 32.93   \n18                  1997                 30.75   \n19                     0                 30.00   \n\n                                              Remarks  \n0            Final sales are greater than 155 million  \n1                                                 NaN  \n2                                                 NaN  \n3   The Game Boy (1989) and the Game Boy Color (19...  \n4                                                 NaN  \n5                                                 NaN  \n6                                                 NaN  \n7                                                 NaN  \n8           Final sales are greater than 87.4 million  \n9             Final sales are greater than 84 million  \n10                                                NaN  \n11                    Estimated between 80-82 million  \n12                                                NaN  \n13                                                NaN  \n14                  Estimated between 51-58.5 million  \n15                                                NaN  \n16                                                NaN  \n17                                                NaN  \n18                                                NaN  \n19                                                NaN  ",
      "text/html": "<div>\n<style scoped>\n    .dataframe tbody tr th:only-of-type {\n        vertical-align: middle;\n    }\n\n    .dataframe tbody tr th {\n        vertical-align: top;\n    }\n\n    .dataframe thead th {\n        text-align: right;\n    }\n</style>\n<table border=\"1\" class=\"dataframe\">\n  <thead>\n    <tr style=\"text-align: right;\">\n      <th></th>\n      <th>Console Name</th>\n      <th>Type</th>\n      <th>Company</th>\n      <th>Released Year</th>\n      <th>Discontinuation Year</th>\n      <th>Units sold (million)</th>\n      <th>Remarks</th>\n    </tr>\n  </thead>\n  <tbody>\n    <tr>\n      <th>0</th>\n      <td>PlayStation 2</td>\n      <td>Home</td>\n      <td>Sony</td>\n      <td>2000</td>\n      <td>2013</td>\n      <td>155.00</td>\n      <td>Final sales are greater than 155 million</td>\n    </tr>\n    <tr>\n      <th>1</th>\n      <td>Nintendo DS</td>\n      <td>Handheld</td>\n      <td>Nintendo</td>\n      <td>2004</td>\n      <td>2013</td>\n      <td>154.02</td>\n      <td>NaN</td>\n    </tr>\n    <tr>\n      <th>2</th>\n      <td>Nintendo Switch</td>\n      <td>Hybrid</td>\n      <td>Nintendo</td>\n      <td>2017</td>\n      <td>0</td>\n      <td>122.55</td>\n      <td>NaN</td>\n    </tr>\n    <tr>\n      <th>3</th>\n      <td>Game Boy</td>\n      <td>Handheld</td>\n      <td>Nintendo</td>\n      <td>1989</td>\n      <td>2003</td>\n      <td>64.42</td>\n      <td>The Game Boy (1989) and the Game Boy Color (19...</td>\n    </tr>\n    <tr>\n      <th>4</th>\n      <td>Game Boy Color</td>\n      <td>Handheld</td>\n      <td>Nintendo</td>\n      <td>1998</td>\n      <td>2003</td>\n      <td>44.06</td>\n      <td>NaN</td>\n    </tr>\n    <tr>\n      <th>5</th>\n      <td>PlayStation 4</td>\n      <td>Home</td>\n      <td>Sony</td>\n      <td>2013</td>\n      <td>0</td>\n      <td>117.20</td>\n      <td>NaN</td>\n    </tr>\n    <tr>\n      <th>6</th>\n      <td>PlayStation</td>\n      <td>Home</td>\n      <td>Sony</td>\n      <td>1994</td>\n      <td>2006</td>\n      <td>102.49</td>\n      <td>NaN</td>\n    </tr>\n    <tr>\n      <th>7</th>\n      <td>Wii</td>\n      <td>Home</td>\n      <td>Nintendo</td>\n      <td>2006</td>\n      <td>2013</td>\n      <td>101.63</td>\n      <td>NaN</td>\n    </tr>\n    <tr>\n      <th>8</th>\n      <td>PlayStation 3</td>\n      <td>Home</td>\n      <td>Sony</td>\n      <td>2006</td>\n      <td>2017</td>\n      <td>87.40</td>\n      <td>Final sales are greater than 87.4 million</td>\n    </tr>\n    <tr>\n      <th>9</th>\n      <td>Xbox 360</td>\n      <td>Home</td>\n      <td>Microsoft</td>\n      <td>2005</td>\n      <td>2016</td>\n      <td>84.00</td>\n      <td>Final sales are greater than 84 million</td>\n    </tr>\n    <tr>\n      <th>10</th>\n      <td>Game Boy Advance</td>\n      <td>Handheld</td>\n      <td>Nintendo</td>\n      <td>2001</td>\n      <td>2010</td>\n      <td>81.51</td>\n      <td>NaN</td>\n    </tr>\n    <tr>\n      <th>11</th>\n      <td>PlayStation Portable</td>\n      <td>Handheld</td>\n      <td>Sony</td>\n      <td>2004</td>\n      <td>2014</td>\n      <td>82.00</td>\n      <td>Estimated between 80-82 million</td>\n    </tr>\n    <tr>\n      <th>12</th>\n      <td>Nintendo 3DS</td>\n      <td>Handheld</td>\n      <td>Nintendo</td>\n      <td>2011</td>\n      <td>2020</td>\n      <td>75.94</td>\n      <td>NaN</td>\n    </tr>\n    <tr>\n      <th>13</th>\n      <td>NES/Famicom</td>\n      <td>Home</td>\n      <td>Nintendo</td>\n      <td>1983</td>\n      <td>2003</td>\n      <td>61.91</td>\n      <td>NaN</td>\n    </tr>\n    <tr>\n      <th>14</th>\n      <td>Xbox One</td>\n      <td>Home</td>\n      <td>Microsoft</td>\n      <td>2013</td>\n      <td>2020</td>\n      <td>58.50</td>\n      <td>Estimated between 51-58.5 million</td>\n    </tr>\n    <tr>\n      <th>15</th>\n      <td>SNES/Super Famicom</td>\n      <td>Home</td>\n      <td>Nintendo</td>\n      <td>1990</td>\n      <td>2003</td>\n      <td>49.10</td>\n      <td>NaN</td>\n    </tr>\n    <tr>\n      <th>16</th>\n      <td>Game &amp; Watch</td>\n      <td>Handheld</td>\n      <td>Nintendo</td>\n      <td>1980</td>\n      <td>1991</td>\n      <td>43.40</td>\n      <td>NaN</td>\n    </tr>\n    <tr>\n      <th>17</th>\n      <td>Nintendo 64</td>\n      <td>Home</td>\n      <td>Nintendo</td>\n      <td>1996</td>\n      <td>2002</td>\n      <td>32.93</td>\n      <td>NaN</td>\n    </tr>\n    <tr>\n      <th>18</th>\n      <td>Sega Genesis/Mega Drive</td>\n      <td>Home</td>\n      <td>Sega</td>\n      <td>1988</td>\n      <td>1997</td>\n      <td>30.75</td>\n      <td>NaN</td>\n    </tr>\n    <tr>\n      <th>19</th>\n      <td>PlayStation 5</td>\n      <td>Home</td>\n      <td>Sony</td>\n      <td>2020</td>\n      <td>0</td>\n      <td>30.00</td>\n      <td>NaN</td>\n    </tr>\n  </tbody>\n</table>\n</div>"
     },
     "execution_count": 22,
     "metadata": {},
     "output_type": "execute_result"
    }
   ],
   "source": [
    "import numpy as np\n",
    "import pandas as pd\n",
    "import seaborn as sns\n",
    "import matplotlib.ticker as mtick\n",
    "import matplotlib.pyplot as plt\n",
    "from sklearn.preprocessing import MinMaxScaler\n",
    "from sklearn.linear_model import LogisticRegression\n",
    "from sklearn import metrics\n",
    "from sklearn.model_selection import train_test_split\n",
    "from sklearn.ensemble import RandomForestClassifier\n",
    "from sklearn.metrics import accuracy_score, precision_score, recall_score, f1_score, confusion_matrix\n",
    "\n",
    "df = pd.read_csv(\"best-selling game consoles.csv\")\n",
    "df.head(20)"
   ]
  },
  {
   "cell_type": "code",
   "execution_count": 23,
   "outputs": [
    {
     "name": "stdout",
     "output_type": "stream",
     "text": [
      "<class 'pandas.core.frame.DataFrame'>\n",
      "RangeIndex: 51 entries, 0 to 50\n",
      "Data columns (total 7 columns):\n",
      " #   Column                Non-Null Count  Dtype  \n",
      "---  ------                --------------  -----  \n",
      " 0   Console Name          51 non-null     object \n",
      " 1   Type                  51 non-null     object \n",
      " 2   Company               51 non-null     object \n",
      " 3   Released Year         51 non-null     int64  \n",
      " 4   Discontinuation Year  51 non-null     int64  \n",
      " 5   Units sold (million)  51 non-null     float64\n",
      " 6   Remarks               16 non-null     object \n",
      "dtypes: float64(1), int64(2), object(4)\n",
      "memory usage: 2.9+ KB\n"
     ]
    },
    {
     "data": {
      "text/plain": "       Released Year  Discontinuation Year  Units sold (million)\ncount      51.000000             51.000000             51.000000\nmean     1996.058824           1844.803922             35.549412\nstd        12.378064            543.657319             42.608844\nmin      1976.000000              0.000000              1.000000\n25%      1987.500000           1992.000000              3.200000\n50%      1994.000000           1998.000000             13.560000\n75%      2004.500000           2011.500000             60.205000\nmax      2020.000000           2020.000000            155.000000",
      "text/html": "<div>\n<style scoped>\n    .dataframe tbody tr th:only-of-type {\n        vertical-align: middle;\n    }\n\n    .dataframe tbody tr th {\n        vertical-align: top;\n    }\n\n    .dataframe thead th {\n        text-align: right;\n    }\n</style>\n<table border=\"1\" class=\"dataframe\">\n  <thead>\n    <tr style=\"text-align: right;\">\n      <th></th>\n      <th>Released Year</th>\n      <th>Discontinuation Year</th>\n      <th>Units sold (million)</th>\n    </tr>\n  </thead>\n  <tbody>\n    <tr>\n      <th>count</th>\n      <td>51.000000</td>\n      <td>51.000000</td>\n      <td>51.000000</td>\n    </tr>\n    <tr>\n      <th>mean</th>\n      <td>1996.058824</td>\n      <td>1844.803922</td>\n      <td>35.549412</td>\n    </tr>\n    <tr>\n      <th>std</th>\n      <td>12.378064</td>\n      <td>543.657319</td>\n      <td>42.608844</td>\n    </tr>\n    <tr>\n      <th>min</th>\n      <td>1976.000000</td>\n      <td>0.000000</td>\n      <td>1.000000</td>\n    </tr>\n    <tr>\n      <th>25%</th>\n      <td>1987.500000</td>\n      <td>1992.000000</td>\n      <td>3.200000</td>\n    </tr>\n    <tr>\n      <th>50%</th>\n      <td>1994.000000</td>\n      <td>1998.000000</td>\n      <td>13.560000</td>\n    </tr>\n    <tr>\n      <th>75%</th>\n      <td>2004.500000</td>\n      <td>2011.500000</td>\n      <td>60.205000</td>\n    </tr>\n    <tr>\n      <th>max</th>\n      <td>2020.000000</td>\n      <td>2020.000000</td>\n      <td>155.000000</td>\n    </tr>\n  </tbody>\n</table>\n</div>"
     },
     "execution_count": 23,
     "metadata": {},
     "output_type": "execute_result"
    }
   ],
   "source": [
    "df.info()\n",
    "\n",
    "df.describe()"
   ],
   "metadata": {
    "collapsed": false
   }
  },
  {
   "cell_type": "code",
   "execution_count": 24,
   "outputs": [
    {
     "data": {
      "text/plain": "Console Name             0\nType                     0\nCompany                  0\nReleased Year            0\nDiscontinuation Year     0\nUnits sold (million)     0\nRemarks                 35\ndtype: int64"
     },
     "execution_count": 24,
     "metadata": {},
     "output_type": "execute_result"
    }
   ],
   "source": [
    "df.isnull().sum()"
   ],
   "metadata": {
    "collapsed": false
   }
  },
  {
   "cell_type": "code",
   "execution_count": 25,
   "outputs": [],
   "source": [
    "df = df.drop('Remarks', axis=1)"
   ],
   "metadata": {
    "collapsed": false
   }
  }
 ],
 "metadata": {
  "kernelspec": {
   "display_name": "Python 3",
   "language": "python",
   "name": "python3"
  },
  "language_info": {
   "codemirror_mode": {
    "name": "ipython",
    "version": 2
   },
   "file_extension": ".py",
   "mimetype": "text/x-python",
   "name": "python",
   "nbconvert_exporter": "python",
   "pygments_lexer": "ipython2",
   "version": "2.7.6"
  }
 },
 "nbformat": 4,
 "nbformat_minor": 0
}
